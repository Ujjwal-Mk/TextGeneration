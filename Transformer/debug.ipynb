{
 "cells": [
  {
   "cell_type": "code",
   "execution_count": 1,
   "metadata": {},
   "outputs": [
    {
     "name": "stdout",
     "output_type": "stream",
     "text": [
      "2.16.1\n",
      "1 Physical GPUs, 1 Logical GPUs\n"
     ]
    }
   ],
   "source": [
    "import os\n",
    "os.environ['TF_CPP_MIN_LOG_LEVEL'] = '3'\n",
    "os.environ[\"KMP_DUPLICATE_LIB_OK\"]=\"TRUE\"\n",
    "import tensorflow as tf\n",
    "from helper_functions import *\n",
    "importTensorflow(memory=4090)\n",
    "import numpy as np\n",
    "import time"
   ]
  },
  {
   "cell_type": "code",
   "execution_count": 2,
   "metadata": {},
   "outputs": [],
   "source": [
    "with open('input.txt', 'r', encoding='utf-8') as f:\n",
    "    text = f.read()\n",
    "\n",
    "chars = sorted(list(set(text)))\n",
    "vocab_size = len(chars)"
   ]
  },
  {
   "cell_type": "code",
   "execution_count": 3,
   "metadata": {},
   "outputs": [],
   "source": [
    "stoi = { ch:i for i, ch in enumerate(chars) }\n",
    "itos = { i:ch for i, ch in enumerate(chars) }\n",
    "encode = lambda s: [stoi[c] for c in s]\n",
    "decode = lambda l: \"\".join([itos[i] for i in l])\n",
    "\n",
    "data = tf.constant(encode(text), dtype=tf.int64)\n",
    "n = int(0.9 * len(data))\n",
    "train_data = data[:n]\n",
    "val_data = data[n:]"
   ]
  },
  {
   "cell_type": "code",
   "execution_count": 4,
   "metadata": {},
   "outputs": [],
   "source": [
    "tf.random.set_seed(1337)\n",
    "batch_size = 64\n",
    "block_size = 256\n",
    "\n",
    "learning_rate = 3e-4\n",
    "max_iters = 5000\n",
    "eval_interval = 500\n",
    "eval_iters = 200\n",
    "n_embd = 384\n",
    "n_head = 4"
   ]
  },
  {
   "cell_type": "code",
   "execution_count": 5,
   "metadata": {},
   "outputs": [],
   "source": [
    "def get_batch(split):\n",
    "    data = train_data if split == \"train\" else val_data\n",
    "    ix = np.random.randint(low = 0, high = len(data) - block_size, size=(batch_size, ))\n",
    "    x = tf.stack([data[i:i+block_size] for i in ix])\n",
    "    y = tf.stack([data[i+1:i+block_size+1] for i in ix])\n",
    "    return x, y"
   ]
  },
  {
   "cell_type": "code",
   "execution_count": 6,
   "metadata": {},
   "outputs": [],
   "source": [
    "class Head(tf.keras.Model):\n",
    "    def __init__(self, head_size):\n",
    "        super().__init__()\n",
    "        self.key = tf.keras.layers.Dense(head_size, use_bias=False)\n",
    "        self.query = tf.keras.layers.Dense(head_size, use_bias=False)\n",
    "        self.value = tf.keras.layers.Dense(head_size, use_bias=False)\n",
    "        self.tril = tf.constant(np.tril(tf.ones((block_size, block_size), dtype=tf.float32)))\n",
    "\n",
    "    def call(self, x):\n",
    "        B, T, C = tf.shape(x)[0], tf.shape(x)[1], tf.shape(x)[2]\n",
    "        k = self.key(x)\n",
    "        q = self.query(x)\n",
    "        wei = q @ tf.transpose(k, perm=[0, 2, 1]) * tf.cast(C, dtype=tf.float32)**(-0.5)\n",
    "        wei = tf.where(self.tril[:T,:T]==0, x=float('-inf'), y=wei)\n",
    "        wei = tf.nn.softmax(wei, axis=-1)\n",
    "        v = self.value(x)\n",
    "        out = wei @ v\n",
    "        return out"
   ]
  },
  {
   "cell_type": "code",
   "execution_count": 7,
   "metadata": {},
   "outputs": [],
   "source": [
    "class MultiHeadAttention(tf.keras.Model):\n",
    "    def __init__(self, num_heads, head_size):\n",
    "        super().__init__()\n",
    "        self.heads = [Head(head_size) for _ in range(num_heads)]\n",
    "        self.proj = tf.keras.layers.Dense(n_embd)\n",
    "    \n",
    "    def call(self, x):\n",
    "        out = tf.concat([h(x) for h in self.heads], axis=-1)\n",
    "        out = self.proj(out)\n",
    "        return out"
   ]
  },
  {
   "cell_type": "code",
   "execution_count": 8,
   "metadata": {},
   "outputs": [],
   "source": [
    "class FeedForward(tf.keras.Model):\n",
    "    def __init__(self, n_embd):\n",
    "        super().__init__()\n",
    "        self.model = tf.keras.models.Sequential([\n",
    "            tf.keras.layers.Dense(4 * n_embd),\n",
    "            tf.keras.layers.ReLU(),\n",
    "            tf.keras.layers.Dense(n_embd)\n",
    "        ])\n",
    "    \n",
    "    def call(self, x):\n",
    "        return self.model(x)"
   ]
  },
  {
   "cell_type": "code",
   "execution_count": 9,
   "metadata": {},
   "outputs": [],
   "source": [
    "class Block(tf.keras.Model):\n",
    "    def __init__(self, n_embd, n_head):\n",
    "        super().__init__()\n",
    "        head_size = n_embd//n_head\n",
    "        self.sa = MultiHeadAttention(n_head, head_size)\n",
    "        self.ffwd = FeedForward(n_embd)\n",
    "    \n",
    "    def call(self, x):\n",
    "        x = x + self.sa(x)\n",
    "        x = x + self.ffwd(x)\n",
    "        return x"
   ]
  },
  {
   "cell_type": "code",
   "execution_count": 10,
   "metadata": {},
   "outputs": [],
   "source": [
    "class BigramLanguageModel(tf.keras.Model):\n",
    "    def __init__(self):\n",
    "        super().__init__()\n",
    "        self.token_embedding_table = tf.keras.layers.Embedding(vocab_size, n_embd)\n",
    "        self.position_embedding_table = tf.keras.layers.Embedding(block_size, n_embd)\n",
    "        # self.sa_head = MultiHeadAttention(4, n_embd//4)\n",
    "        # self.ffwd = FeedForward(n_embd)\n",
    "        self.blocks = tf.keras.models.Sequential([\n",
    "            Block(n_embd, n_head),\n",
    "            Block(n_embd, n_head),\n",
    "            Block(n_embd, n_head)\n",
    "        ])\n",
    "        self.lm_head = tf.keras.layers.Dense(vocab_size)\n",
    "    \n",
    "    def call(self, idx, targets=None):\n",
    "        B, T = tf.shape(idx)[0], tf.shape(idx)[1]\n",
    "        token_emb = self.token_embedding_table(idx) # (B,T,C)\n",
    "        pos_emb = self.position_embedding_table(tf.range(T))\n",
    "        \n",
    "        x = token_emb + pos_emb\n",
    "        # x = self.sa_head(x)\n",
    "        # x = self.ffwd(x)\n",
    "        x = self.blocks(x)\n",
    "\n",
    "        logits = self.lm_head(x) # (B,T,vocab_size)\n",
    "        loss = None\n",
    "        if targets is not None:\n",
    "            lossF = tf.keras.losses.SparseCategoricalCrossentropy(from_logits=True)\n",
    "            # print(idx.shape, targets.shape, logits.shape)\n",
    "            loss = lossF(targets, logits)\n",
    "        return logits, loss\n",
    "    \n",
    "    def generate(self, idx, max_new_tokens):\n",
    "        for _ in range(max_new_tokens):\n",
    "            idx_new = idx[:, -block_size:]\n",
    "            logits, loss = self(idx_new)\n",
    "            # print(logits.shape)\n",
    "            # print(logits)\n",
    "            logits = logits[:, -1, :]\n",
    "            probs = tf.nn.softmax(logits, axis=-1)\n",
    "            idx_next = tf.random.categorical(probs, num_samples = 1)\n",
    "            idx = tf.concat([idx, idx_next], axis=-1)\n",
    "            # print(_, idx)\n",
    "        return idx"
   ]
  },
  {
   "cell_type": "code",
   "execution_count": 11,
   "metadata": {},
   "outputs": [],
   "source": [
    "m = BigramLanguageModel()\n",
    "optimizer = tf.keras.optimizers.Adam(learning_rate=learning_rate)"
   ]
  },
  {
   "cell_type": "code",
   "execution_count": 12,
   "metadata": {},
   "outputs": [],
   "source": [
    "@tf.function\n",
    "def train_step(xb, yb):\n",
    "    with tf.GradientTape() as tape:\n",
    "        logits, loss = m(xb, yb)\n",
    "    gradients = tape.gradient(loss, m.trainable_variables)\n",
    "    optimizer.apply_gradients(zip(gradients, m.trainable_variables))\n",
    "    return loss"
   ]
  },
  {
   "cell_type": "code",
   "execution_count": 13,
   "metadata": {},
   "outputs": [],
   "source": [
    "def estimate_loss(model, eval_iters, get_batch):\n",
    "    results = {}\n",
    "    for split in ['train', 'val']:\n",
    "        losses = []\n",
    "        for _ in range(eval_iters):\n",
    "            xb, yb = get_batch(split)\n",
    "            _, loss = model(xb, yb)\n",
    "            losses.append(loss.numpy())\n",
    "        results[split] = tf.reduce_mean(losses)\n",
    "    return results"
   ]
  },
  {
   "cell_type": "code",
   "execution_count": 14,
   "metadata": {},
   "outputs": [
    {
     "name": "stdout",
     "output_type": "stream",
     "text": [
      "step 0: train loss 4.1757, val loss 4.1755\n",
      "step 500: train loss 3.3022, val loss 3.3435\n",
      "step 1000: train loss 2.7322, val loss 2.7180\n",
      "step 1500: train loss 2.1906, val loss 2.2262\n",
      "step 2000: train loss 2.0946, val loss 2.1507\n",
      "step 2500: train loss 2.0122, val loss 2.0869\n",
      "step 3000: train loss 1.9543, val loss 2.0571\n",
      "step 3500: train loss 1.9313, val loss 2.0455\n",
      "step 4000: train loss 1.8887, val loss 2.0101\n",
      "step 4500: train loss 1.8640, val loss 2.0083\n"
     ]
    }
   ],
   "source": [
    "for iter in range(max_iters):\n",
    "    if iter % eval_interval == 0:\n",
    "        losses = estimate_loss(m, eval_iters, get_batch)\n",
    "        print(f\"step {iter}: train loss {losses['train']:.4f}, val loss {losses['val']:.4f}\")\n",
    "\n",
    "    xb, yb = get_batch('train')\n",
    "    loss = train_step(xb, yb)"
   ]
  },
  {
   "cell_type": "code",
   "execution_count": 18,
   "metadata": {},
   "outputs": [
    {
     "name": "stdout",
     "output_type": "stream",
     "text": [
      "\n",
      "rS:A.DRAoB$'ASG;;r SR3!H!NlF?gcoIheO; O-fE\n",
      " tNTHG,Z!NKM &Y ExEBawBg WhG-F&Bj\n",
      "qozfacYGEhy:gguDuaT\n",
      ",lrcAeCkRgK;jhtMY-woYLfZKF QJpnyx,Ayccc3ziKIG,LusaA?UTENTgS'xDFi-LtA;ujVb;Mx'TWEcCVyXrp$JB-,VdQ\n",
      "BIASpwDXVNpQyHJdxSka\n",
      ",eTigQbDHooKIyQ3wfJR,DlGobLY,d;b;&\n",
      "de:xDmdWu;eLSWSEGx;V&X'ioJW!,yH:PJBRK,ZizhX;E.Ul!nIAO,,$3:\n",
      "nzTDS;WSQPRez?ErXpO&R?A$&XNz;eil?EFQSuahbndyU-Zh,RDN&bWIiv:rpBafjCQJZ'oKBRh,bCo!vKfIib.Law&uvmfnozHmcYVCG&Q UBoHuN\n",
      "rPDuCiso!U&V;pSzfZylVf.LeEVQbCBgESuxrY;REeY$L,?CLNG3kVtFkFMgB pplQ&IfSZd:Ama'\n"
     ]
    }
   ],
   "source": [
    "context = tf.zeros((1, 1), dtype=tf.int64)\n",
    "generated_sequence = m.generate(context, max_new_tokens=500)\n",
    "print(decode(generated_sequence[0].numpy()))"
   ]
  }
 ],
 "metadata": {
  "kernelspec": {
   "display_name": "tf2.16",
   "language": "python",
   "name": "python3"
  },
  "language_info": {
   "codemirror_mode": {
    "name": "ipython",
    "version": 3
   },
   "file_extension": ".py",
   "mimetype": "text/x-python",
   "name": "python",
   "nbconvert_exporter": "python",
   "pygments_lexer": "ipython3",
   "version": "3.10.14"
  }
 },
 "nbformat": 4,
 "nbformat_minor": 2
}
